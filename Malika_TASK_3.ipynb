{
  "nbformat": 4,
  "nbformat_minor": 0,
  "metadata": {
    "colab": {
      "provenance": []
    },
    "kernelspec": {
      "name": "python3",
      "display_name": "Python 3"
    },
    "language_info": {
      "name": "python"
    }
  },
  "cells": [
    {
      "cell_type": "code",
      "execution_count": 1,
      "metadata": {
        "colab": {
          "base_uri": "https://localhost:8080/"
        },
        "id": "JvozX3MSMgsw",
        "outputId": "0e7886d3-57a3-45a0-824e-9e15b1b24db4"
      },
      "outputs": [
        {
          "output_type": "stream",
          "name": "stdout",
          "text": [
            "MSE: 0.02200000000000002\n",
            "RMSE: 0.14832396974191334\n",
            "Cosine Similarity: 0.9746318461970762\n",
            "Linear Regression Equation: y = 2.0x + 0.0\n",
            "Softmax: [0.6652407656915682, 0.24472856574435606, 0.09003066856407584]\n"
          ]
        }
      ],
      "source": [
        "# Function to calculate Mean Squared Error (MSE)\n",
        "def mse(actual, predicted):\n",
        "    if len(actual) != len(predicted):\n",
        "        raise ValueError(\"Lists must have the same length\")\n",
        "    return sum((a - p) ** 2 for a, p in zip(actual, predicted)) / len(actual)\n",
        "\n",
        "# Function to calculate Root Mean Squared Error (RMSE)\n",
        "def rmse(actual, predicted):\n",
        "    return mse(actual, predicted) ** 0.5\n",
        "\n",
        "# Function to calculate Cosine Similarity\n",
        "def cosine_similarity(a, b):\n",
        "    if len(a) != len(b):\n",
        "        raise ValueError(\"Vectors must have the same length\")\n",
        "    dot_product = sum(x * y for x, y in zip(a, b))\n",
        "    magnitude_a = sum(x ** 2 for x in a) ** 0.5\n",
        "    magnitude_b = sum(y ** 2 for y in b) ** 0.5\n",
        "    if magnitude_a == 0 or magnitude_b == 0:\n",
        "        return 0  # Avoid division by zero\n",
        "    return dot_product / (magnitude_a * magnitude_b)\n",
        "\n",
        "# Function to perform simple Linear Regression (y = mx + c)\n",
        "def linear_regression(x, y):\n",
        "    if len(x) != len(y):\n",
        "        raise ValueError(\"Lists must have the same length\")\n",
        "    n = len(x)\n",
        "    sum_x = sum(x)\n",
        "    sum_y = sum(y)\n",
        "    sum_xy = sum(x_i * y_i for x_i, y_i in zip(x, y))\n",
        "    sum_xx = sum(x_i ** 2 for x_i in x)\n",
        "\n",
        "    # Calculate slope (m) and intercept (c)\n",
        "    m = (n * sum_xy - sum_x * sum_y) / (n * sum_xx - sum_x ** 2)\n",
        "    c = (sum_y - m * sum_x) / n\n",
        "\n",
        "    return m, c  # Returns slope and intercept\n",
        "\n",
        "# Function to calculate Softmax\n",
        "def softmax(values):\n",
        "    exp_values = [2.71828 ** v for v in values]\n",
        "    sum_exp = sum(exp_values)\n",
        "    return [ev / sum_exp for ev in exp_values]\n",
        "\n",
        "# Example Usage:\n",
        "actual = [1, 2, 3, 4, 5]\n",
        "predicted = [1.1, 1.9, 3.2, 3.8, 5.1]\n",
        "\n",
        "print(\"MSE:\", mse(actual, predicted))\n",
        "print(\"RMSE:\", rmse(actual, predicted))\n",
        "\n",
        "vector_a = [1, 2, 3]\n",
        "vector_b = [4, 5, 6]\n",
        "print(\"Cosine Similarity:\", cosine_similarity(vector_a, vector_b))\n",
        "\n",
        "x_vals = [1, 2, 3, 4, 5]\n",
        "y_vals = [2, 4, 6, 8, 10]\n",
        "m, c = linear_regression(x_vals, y_vals)\n",
        "print(f\"Linear Regression Equation: y = {m}x + {c}\")\n",
        "\n",
        "softmax_values = softmax([2, 1, 0])\n",
        "print(\"Softmax:\", softmax_values)\n"
      ]
    },
    {
      "cell_type": "code",
      "source": [],
      "metadata": {
        "id": "qWnugQV3MlL0"
      },
      "execution_count": null,
      "outputs": []
    }
  ]
}