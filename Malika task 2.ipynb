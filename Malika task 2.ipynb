{
  "nbformat": 4,
  "nbformat_minor": 0,
  "metadata": {
    "colab": {
      "provenance": []
    },
    "kernelspec": {
      "name": "python3",
      "display_name": "Python 3"
    },
    "language_info": {
      "name": "python"
    }
  },
  "cells": [
    {
      "cell_type": "code",
      "execution_count": 1,
      "metadata": {
        "id": "aicH2DiuhXtt"
      },
      "outputs": [],
      "source": [
        "# Function to calculate Mean, Median, and Mode\n",
        "def mean_median_mode(numbers):\n",
        "    # Mean\n",
        "    mean_value = sum(numbers) / len(numbers)\n",
        "\n",
        "    # Median\n",
        "    sorted_numbers = sorted(numbers)\n",
        "    n = len(sorted_numbers)\n",
        "    if n % 2 == 0:\n",
        "        median_value = (sorted_numbers[n//2 - 1] + sorted_numbers[n//2]) / 2\n",
        "    else:\n",
        "        median_value = sorted_numbers[n//2]\n",
        "\n",
        "    # Mode\n",
        "    frequency = {}\n",
        "    for num in numbers:\n",
        "        frequency[num] = frequency.get(num, 0) + 1\n",
        "    mode_value = max(frequency, key=frequency.get)\n",
        "\n",
        "    return mean_value, median_value, mode_value"
      ]
    },
    {
      "cell_type": "code",
      "source": [
        "# Function to calculate Variance\n",
        "def variance(numbers):\n",
        "    mean_value = sum(numbers) / len(numbers)\n",
        "    return sum((x - mean_value) ** 2 for x in numbers) / len(numbers)"
      ],
      "metadata": {
        "id": "NcNEzbSTiK3F"
      },
      "execution_count": 8,
      "outputs": []
    },
    {
      "cell_type": "code",
      "source": [
        "# Function to calculate Standard Deviation\n",
        "def standard_deviation(numbers):\n",
        "    return variance(numbers) ** 0.5# Function to calculate Euclidean Distance\n",
        "def euclidean_distance(a, b):\n",
        "    if isinstance(a, (int, float)) and isinstance(b, (int, float)):\n",
        "        return abs(a - b)\n",
        "    elif isinstance(a, list) and isinstance(b, list) and len(a) == len(b):\n",
        "        return sum((x - y) ** 2 for x, y in zip(a, b)) ** 0.5\n",
        "    else:\n",
        "        raise ValueError(\"Inputs must be either two numbers or two lists of the same length\")"
      ],
      "metadata": {
        "id": "S-Hbj-DliPYW"
      },
      "execution_count": 10,
      "outputs": []
    },
    {
      "cell_type": "code",
      "source": [
        "# Function to calculate Euclidean Distance\n",
        "def euclidean_distance(a, b):\n",
        "    if isinstance(a, (int, float)) and isinstance(b, (int, float)):\n",
        "        return abs(a - b)\n",
        "    elif isinstance(a, list) and isinstance(b, list) and len(a) == len(b):\n",
        "        return sum((x - y) ** 2 for x, y in zip(a, b)) ** 0.5\n",
        "    else:\n",
        "        raise ValueError(\"Inputs must be either two numbers or two lists of the same length\")\n"
      ],
      "metadata": {
        "id": "TJXZ_NBXiTe-"
      },
      "execution_count": 4,
      "outputs": []
    },
    {
      "cell_type": "code",
      "source": [
        "# Function for Sigmoid Activation\n",
        "def sigmoid(x):\n",
        "    return 1 / (1 + (2.71828 ** -x))"
      ],
      "metadata": {
        "id": "h1S6T1cYiWah"
      },
      "execution_count": 11,
      "outputs": []
    },
    {
      "cell_type": "code",
      "source": [],
      "metadata": {
        "id": "4h_q_wawic4Y"
      },
      "execution_count": 5,
      "outputs": []
    },
    {
      "cell_type": "code",
      "source": [],
      "metadata": {
        "id": "QeDo-ykki3Vg"
      },
      "execution_count": null,
      "outputs": []
    },
    {
      "cell_type": "code",
      "source": [],
      "metadata": {
        "id": "t10__5U5i4pX"
      },
      "execution_count": null,
      "outputs": []
    }
  ]
}