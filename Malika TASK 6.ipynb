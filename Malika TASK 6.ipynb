{
  "nbformat": 4,
  "nbformat_minor": 0,
  "metadata": {
    "colab": {
      "provenance": []
    },
    "kernelspec": {
      "name": "python3",
      "display_name": "Python 3"
    },
    "language_info": {
      "name": "python"
    }
  },
  "cells": [
    {
      "cell_type": "code",
      "execution_count": 1,
      "metadata": {
        "colab": {
          "base_uri": "https://localhost:8080/"
        },
        "id": "0CoBBCKxpmzE",
        "outputId": "0520a09b-cd21-4bad-906e-7ae8c6b3927e"
      },
      "outputs": [
        {
          "output_type": "stream",
          "name": "stdout",
          "text": [
            "Enter the temperature: 24\n",
            "The weather is moderate.\n",
            "Enter a number: 6\n",
            "Even\n",
            "Enter your score: 45\n",
            "You failed.\n",
            "Enter your age: 22\n",
            "You are an adult.\n",
            "Enter username: malaikashahid102@gmail.com\n",
            "Enter password: ddgfgh\n",
            "Invalid username or password.\n"
          ]
        }
      ],
      "source": [
        "# Question 1: Temperature Check\n",
        "temperature = int(input(\"Enter the temperature: \"))\n",
        "\n",
        "if temperature > 30:\n",
        "    print(\"It's hot outside!\")\n",
        "elif 20 <= temperature <= 30:\n",
        "    print(\"The weather is moderate.\")\n",
        "else:\n",
        "    print(\"It's cold outside!\")\n",
        "\n",
        "# Question 2: Even or Odd\n",
        "num = int(input(\"Enter a number: \"))\n",
        "\n",
        "if num % 2 == 0:\n",
        "    print(\"Even\")\n",
        "else:\n",
        "    print(\"Odd\")\n",
        "\n",
        "# Question 3: Pass or Fail\n",
        "score = int(input(\"Enter your score: \"))\n",
        "\n",
        "if score >= 50:\n",
        "    print(\"You passed!\")\n",
        "else:\n",
        "    print(\"You failed.\")\n",
        "\n",
        "# Question 4: Nested Conditions\n",
        "age = int(input(\"Enter your age: \"))\n",
        "\n",
        "if age >= 18:\n",
        "    print(\"You are an adult.\")\n",
        "    if age >= 65:\n",
        "        print(\"You are a senior citizen.\")\n",
        "else:\n",
        "    print(\"You are a minor.\")\n",
        "\n",
        "# Question 5: Login System\n",
        "username = input(\"Enter username: \")\n",
        "password = input(\"Enter password: \")\n",
        "\n",
        "correct_username = \"admin\"\n",
        "correct_password = \"1234\"\n",
        "\n",
        "if username == correct_username and password == correct_password:\n",
        "    print(\"Login successful!\")\n",
        "else:\n",
        "    print(\"Invalid username or password.\")\n"
      ]
    },
    {
      "cell_type": "code",
      "source": [
        "# Question 1: Create a List\n",
        "fruits = [\"apple\", \"banana\", \"cherry\"]\n",
        "print(fruits)\n",
        "\n",
        "# Question 2: Accessing List Elements\n",
        "print(fruits[0])  # First element\n",
        "print(fruits[-1])  # Last element\n",
        "\n",
        "# Question 3: Adding Elements\n",
        "fruits.append(\"orange\")\n",
        "print(fruits)\n",
        "\n",
        "# Question 4: Removing Elements\n",
        "fruits.remove(\"banana\")\n",
        "print(fruits)\n",
        "\n",
        "# Question 5: Checking List Length\n",
        "print(\"List length:\", len(fruits))\n",
        "\n",
        "# Question 6: Looping Through a List\n",
        "for fruit in fruits:\n",
        "    print(fruit)\n",
        "\n",
        "# Question 7: Sorting a List\n",
        "numbers = [5, 2, 9, 1, 7]\n",
        "numbers.sort()\n",
        "print(numbers)\n",
        "\n",
        "# Question 8: Reverse a List\n",
        "numbers.reverse()\n",
        "print(numbers)\n",
        "\n",
        "# Question 9: Finding Maximum and Minimum\n",
        "print(\"Max:\", max(numbers))\n",
        "print(\"Min:\", min(numbers))\n",
        "\n",
        "# Question 10: List Slicing\n",
        "print(fruits[1:3])  # Slicing list from index 1 to 2\n"
      ],
      "metadata": {
        "colab": {
          "base_uri": "https://localhost:8080/"
        },
        "id": "TGwGh1wtpq04",
        "outputId": "ce7ea27d-0c06-4dfc-cc48-900d38b10c34"
      },
      "execution_count": 2,
      "outputs": [
        {
          "output_type": "stream",
          "name": "stdout",
          "text": [
            "['apple', 'banana', 'cherry']\n",
            "apple\n",
            "cherry\n",
            "['apple', 'banana', 'cherry', 'orange']\n",
            "['apple', 'cherry', 'orange']\n",
            "List length: 3\n",
            "apple\n",
            "cherry\n",
            "orange\n",
            "[1, 2, 5, 7, 9]\n",
            "[9, 7, 5, 2, 1]\n",
            "Max: 9\n",
            "Min: 1\n",
            "['cherry', 'orange']\n"
          ]
        }
      ]
    },
    {
      "cell_type": "code",
      "source": [],
      "metadata": {
        "id": "H2JRIL6Yp49-"
      },
      "execution_count": null,
      "outputs": []
    }
  ]
}