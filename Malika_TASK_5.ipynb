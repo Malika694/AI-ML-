{
  "nbformat": 4,
  "nbformat_minor": 0,
  "metadata": {
    "colab": {
      "provenance": []
    },
    "kernelspec": {
      "name": "python3",
      "display_name": "Python 3"
    },
    "language_info": {
      "name": "python"
    }
  },
  "cells": [
    {
      "cell_type": "code",
      "execution_count": 2,
      "metadata": {
        "colab": {
          "base_uri": "https://localhost:8080/"
        },
        "id": "Gbulj1-LrMRh",
        "outputId": "4dc2c737-1289-4c5b-bf97-30c3816bfaa8"
      },
      "outputs": [
        {
          "output_type": "stream",
          "name": "stdout",
          "text": [
            "Hello, welcome to Python!\n",
            "8\n",
            "10\n",
            "15\n",
            "Square: 16\n",
            "Cube: 64\n",
            "15\n",
            "name: Alice\n",
            "age: 25\n",
            "country: USA\n",
            "36\n",
            "120\n"
          ]
        }
      ],
      "source": [
        "#functions\n",
        "# Question 1: Define a Function\n",
        "def greet():\n",
        "    print(\"Hello, welcome to Python!\")\n",
        "\n",
        "greet()  # Calling the function\n",
        "\n",
        "# Question 2: Function with Parameters\n",
        "def add_numbers(a, b):\n",
        "    return a + b\n",
        "\n",
        "print(add_numbers(5, 3))  # Output: 8\n",
        "\n",
        "# Question 3: Function with Default Arguments\n",
        "def multiply(a, b=2):\n",
        "    return a * b\n",
        "\n",
        "print(multiply(5))  # Output: 10\n",
        "print(multiply(5, 3))  # Output: 15\n",
        "\n",
        "# Question 4: Function Returning Multiple Values\n",
        "def get_square_and_cube(num):\n",
        "    return num**2, num**3\n",
        "\n",
        "square, cube = get_square_and_cube(4)\n",
        "print(\"Square:\", square)  # Output: 16\n",
        "print(\"Cube:\", cube)  # Output: 64\n",
        "\n",
        "# Question 5: Function Using *args\n",
        "def sum_numbers(*nums):\n",
        "    return sum(nums)\n",
        "\n",
        "print(sum_numbers(1, 2, 3, 4, 5))  # Output: 15\n",
        "\n",
        "# Question 6: Function Using **kwargs\n",
        "def print_person_info(**info):\n",
        "    for key, value in info.items():\n",
        "        print(f\"{key}: {value}\")\n",
        "\n",
        "print_person_info(name=\"Alice\", age=25, country=\"USA\")\n",
        "\n",
        "# Question 7: Lambda Function\n",
        "square = lambda x: x ** 2\n",
        "print(square(6))  # Output: 36\n",
        "\n",
        "# Question 8: Recursive Function\n",
        "def factorial(n):\n",
        "    if n == 0 or n == 1:\n",
        "        return 1\n",
        "    return n * factorial(n - 1)\n",
        "\n",
        "print(factorial(5))  # Output: 120\n"
      ]
    },
    {
      "cell_type": "code",
      "source": [
        "#Data type\n",
        "# Question 1: Identify Data Types\n",
        "x = 10\n",
        "y = 3.14\n",
        "z = \"Python\"\n",
        "a = True\n",
        "\n",
        "print(type(x))  # Output: <class 'int'>\n",
        "print(type(y))  # Output: <class 'float'>\n",
        "print(type(z))  # Output: <class 'str'>\n",
        "print(type(a))  # Output: <class 'bool'>\n",
        "\n",
        "# Question 2: Convert Data Types\n",
        "num_str = \"100\"\n",
        "num_int = int(num_str)  # Convert string to integer\n",
        "num_float = float(num_str)  # Convert string to float\n",
        "\n",
        "print(num_int, type(num_int))  # Output: 100 <class 'int'>\n",
        "print(num_float, type(num_float))  # Output: 100.0 <class 'float'>\n",
        "\n",
        "# Question 3: String Manipulation\n",
        "text = \"Hello World\"\n",
        "print(text.upper())  # Convert to uppercase\n",
        "print(text.lower())  # Convert to lowercase\n",
        "print(text.replace(\"World\", \"Python\"))  # Replace a word\n",
        "print(text[0:5])  # String slicing\n",
        "\n",
        "# Question 4: Boolean Logic\n",
        "print(True and False)  # Output: False\n",
        "print(True or False)  # Output: True\n",
        "print(not False)  # Output: True\n",
        "\n",
        "# Question 5: List and Tuple\n",
        "my_list = [1, 2, 3, 4, 5]\n",
        "my_tuple = (10, 20, 30)\n",
        "\n",
        "print(my_list[2])  # Output: 3\n",
        "print(my_tuple[1])  # Output: 20\n",
        "\n",
        "# Question 6: Dictionary Operations\n",
        "person = {\"name\": \"Alice\", \"age\": 25, \"city\": \"New York\"}\n",
        "print(person[\"name\"])  # Output: Alice\n",
        "person[\"age\"] = 26  # Updating value\n",
        "print(person)\n",
        "\n",
        "# Question 7: Type Checking\n",
        "value = 10.5\n",
        "\n",
        "if isinstance(value, int):\n",
        "    print(\"It's an integer.\")\n",
        "elif isinstance(value, float):\n",
        "    print(\"It's a float.\")  # This will print\n",
        "elif isinstance(value, str):\n",
        "    print(\"It's a string.\")\n",
        "\n",
        "# Question 8: Combining Data Types\n",
        "data = {\"name\": \"Bob\", \"scores\": [90, 85, 88]}\n",
        "print(data[\"name\"])  # Output: Bob\n",
        "print(sum(data[\"scores\"]) / len(data[\"scores\"]))  # Average score\n"
      ],
      "metadata": {
        "colab": {
          "base_uri": "https://localhost:8080/"
        },
        "id": "R4l0rFH6rNlX",
        "outputId": "59961810-d5dd-4976-cd6a-76e1d30be417"
      },
      "execution_count": 4,
      "outputs": [
        {
          "output_type": "stream",
          "name": "stdout",
          "text": [
            "<class 'int'>\n",
            "<class 'float'>\n",
            "<class 'str'>\n",
            "<class 'bool'>\n",
            "100 <class 'int'>\n",
            "100.0 <class 'float'>\n",
            "HELLO WORLD\n",
            "hello world\n",
            "Hello Python\n",
            "Hello\n",
            "False\n",
            "True\n",
            "True\n",
            "3\n",
            "20\n",
            "Alice\n",
            "{'name': 'Alice', 'age': 26, 'city': 'New York'}\n",
            "It's a float.\n",
            "Bob\n",
            "87.66666666666667\n"
          ]
        }
      ]
    },
    {
      "cell_type": "code",
      "source": [],
      "metadata": {
        "id": "AVvy1BChrUsD"
      },
      "execution_count": null,
      "outputs": []
    }
  ]
}